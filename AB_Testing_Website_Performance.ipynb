{
 "cells": [
  {
   "cell_type": "markdown",
   "id": "a573bc8f",
   "metadata": {},
   "source": [
    "## AB Testing for new web design to test if user clicks special loan opportunity botton on webpage more frequently\n",
    "\n",
    "\n",
    "\n",
    "\n",
    "\n",
    "### Sample data ready for use"
   ]
  },
  {
   "cell_type": "code",
   "execution_count": 1,
   "id": "6cdb5b51",
   "metadata": {},
   "outputs": [],
   "source": [
    "import pandas as pd\n",
    "import numpy as np\n",
    "\n"
   ]
  },
  {
   "cell_type": "code",
   "execution_count": 2,
   "id": "e1ff7d8b",
   "metadata": {},
   "outputs": [],
   "source": [
    "data=pd.read_excel('AB TESTING DATA.xlsx')"
   ]
  },
  {
   "cell_type": "code",
   "execution_count": 3,
   "id": "478101f6",
   "metadata": {},
   "outputs": [
    {
     "data": {
      "text/html": [
       "<div>\n",
       "<style scoped>\n",
       "    .dataframe tbody tr th:only-of-type {\n",
       "        vertical-align: middle;\n",
       "    }\n",
       "\n",
       "    .dataframe tbody tr th {\n",
       "        vertical-align: top;\n",
       "    }\n",
       "\n",
       "    .dataframe thead th {\n",
       "        text-align: right;\n",
       "    }\n",
       "</style>\n",
       "<table border=\"1\" class=\"dataframe\">\n",
       "  <thead>\n",
       "    <tr style=\"text-align: right;\">\n",
       "      <th></th>\n",
       "      <th>ID</th>\n",
       "      <th>Date</th>\n",
       "      <th>Version</th>\n",
       "      <th>New Page Click</th>\n",
       "    </tr>\n",
       "  </thead>\n",
       "  <tbody>\n",
       "    <tr>\n",
       "      <th>0</th>\n",
       "      <td>306</td>\n",
       "      <td>11/22/2022</td>\n",
       "      <td>New</td>\n",
       "      <td>no</td>\n",
       "    </tr>\n",
       "    <tr>\n",
       "      <th>1</th>\n",
       "      <td>102</td>\n",
       "      <td>12/12/2022</td>\n",
       "      <td>Old</td>\n",
       "      <td>yes</td>\n",
       "    </tr>\n",
       "    <tr>\n",
       "      <th>2</th>\n",
       "      <td>185</td>\n",
       "      <td>12/4/2022</td>\n",
       "      <td>Old</td>\n",
       "      <td>no</td>\n",
       "    </tr>\n",
       "    <tr>\n",
       "      <th>3</th>\n",
       "      <td>7</td>\n",
       "      <td>2/7/2022</td>\n",
       "      <td>Old</td>\n",
       "      <td>no</td>\n",
       "    </tr>\n",
       "    <tr>\n",
       "      <th>4</th>\n",
       "      <td>80</td>\n",
       "      <td>9/18/2022</td>\n",
       "      <td>Old</td>\n",
       "      <td>no</td>\n",
       "    </tr>\n",
       "    <tr>\n",
       "      <th>...</th>\n",
       "      <td>...</td>\n",
       "      <td>...</td>\n",
       "      <td>...</td>\n",
       "      <td>...</td>\n",
       "    </tr>\n",
       "    <tr>\n",
       "      <th>578</th>\n",
       "      <td>365</td>\n",
       "      <td>9/1/2022</td>\n",
       "      <td>Old</td>\n",
       "      <td>yes</td>\n",
       "    </tr>\n",
       "    <tr>\n",
       "      <th>579</th>\n",
       "      <td>374</td>\n",
       "      <td>10/8/2022</td>\n",
       "      <td>New</td>\n",
       "      <td>no</td>\n",
       "    </tr>\n",
       "    <tr>\n",
       "      <th>580</th>\n",
       "      <td>40</td>\n",
       "      <td>12/8/2022</td>\n",
       "      <td>Old</td>\n",
       "      <td>no</td>\n",
       "    </tr>\n",
       "    <tr>\n",
       "      <th>581</th>\n",
       "      <td>207</td>\n",
       "      <td>7/3/2022</td>\n",
       "      <td>Old</td>\n",
       "      <td>yes</td>\n",
       "    </tr>\n",
       "    <tr>\n",
       "      <th>582</th>\n",
       "      <td>427</td>\n",
       "      <td>12/26/2022</td>\n",
       "      <td>Old</td>\n",
       "      <td>yes</td>\n",
       "    </tr>\n",
       "  </tbody>\n",
       "</table>\n",
       "<p>583 rows × 4 columns</p>\n",
       "</div>"
      ],
      "text/plain": [
       "      ID        Date Version New Page Click\n",
       "0    306  11/22/2022     New             no\n",
       "1    102  12/12/2022     Old            yes\n",
       "2    185   12/4/2022     Old             no\n",
       "3      7    2/7/2022     Old             no\n",
       "4     80   9/18/2022     Old             no\n",
       "..   ...         ...     ...            ...\n",
       "578  365    9/1/2022     Old            yes\n",
       "579  374   10/8/2022     New             no\n",
       "580   40   12/8/2022     Old             no\n",
       "581  207    7/3/2022     Old            yes\n",
       "582  427  12/26/2022     Old            yes\n",
       "\n",
       "[583 rows x 4 columns]"
      ]
     },
     "execution_count": 3,
     "metadata": {},
     "output_type": "execute_result"
    }
   ],
   "source": [
    "data"
   ]
  },
  {
   "cell_type": "markdown",
   "id": "36c2c55c",
   "metadata": {},
   "source": [
    "## First, I will gather probabilities"
   ]
  },
  {
   "cell_type": "code",
   "execution_count": 4,
   "id": "b840b0e8",
   "metadata": {},
   "outputs": [],
   "source": [
    "## finding total number of web participants\n",
    "total=len(data)"
   ]
  },
  {
   "cell_type": "code",
   "execution_count": 5,
   "id": "5363a256",
   "metadata": {},
   "outputs": [
    {
     "data": {
      "text/plain": [
       "583"
      ]
     },
     "execution_count": 5,
     "metadata": {},
     "output_type": "execute_result"
    }
   ],
   "source": [
    "total"
   ]
  },
  {
   "cell_type": "code",
   "execution_count": 6,
   "id": "78b18097",
   "metadata": {},
   "outputs": [],
   "source": [
    "old_v=data[data['Version']=='Old']"
   ]
  },
  {
   "cell_type": "code",
   "execution_count": 7,
   "id": "e3713e90",
   "metadata": {},
   "outputs": [
    {
     "data": {
      "text/plain": [
       "292"
      ]
     },
     "execution_count": 7,
     "metadata": {},
     "output_type": "execute_result"
    }
   ],
   "source": [
    "len(old_v)"
   ]
  },
  {
   "cell_type": "code",
   "execution_count": 8,
   "id": "9762011d",
   "metadata": {},
   "outputs": [],
   "source": [
    "new_v=data[data['Version']=='New']"
   ]
  },
  {
   "cell_type": "code",
   "execution_count": 9,
   "id": "9033cb1c",
   "metadata": {},
   "outputs": [
    {
     "data": {
      "text/plain": [
       "291"
      ]
     },
     "execution_count": 9,
     "metadata": {},
     "output_type": "execute_result"
    }
   ],
   "source": [
    "len(new_v)"
   ]
  },
  {
   "cell_type": "markdown",
   "id": "005e7ad3",
   "metadata": {},
   "source": [
    "# Checkpoint:\n",
    "## Total viewers:583\n",
    "## Old version: 292\n",
    "## New Version:291"
   ]
  },
  {
   "cell_type": "code",
   "execution_count": 10,
   "id": "4d4e0f77",
   "metadata": {},
   "outputs": [
    {
     "data": {
      "text/plain": [
       "281"
      ]
     },
     "execution_count": 10,
     "metadata": {},
     "output_type": "execute_result"
    }
   ],
   "source": [
    "\n",
    "## finding the total number of 'yes' selection in the entire dataset(New and Old)\n",
    "\n",
    "tot_yes=len(data[data['New Page Click']=='yes'])\n",
    "\n",
    "tot_yes\n"
   ]
  },
  {
   "cell_type": "code",
   "execution_count": 11,
   "id": "7b769c05",
   "metadata": {},
   "outputs": [
    {
     "name": "stderr",
     "output_type": "stream",
     "text": [
      "<ipython-input-11-fc27dcd7c2f8>:3: UserWarning: Boolean Series key will be reindexed to match DataFrame index.\n",
      "  old_yes=len(old_v[data['New Page Click']=='yes'])\n"
     ]
    },
    {
     "data": {
      "text/plain": [
       "149"
      ]
     },
     "execution_count": 11,
     "metadata": {},
     "output_type": "execute_result"
    }
   ],
   "source": [
    "## finding the total number of 'yes' selection in Old version data\n",
    "\n",
    "old_yes=len(old_v[data['New Page Click']=='yes'])\n",
    "\n",
    "old_yes\n",
    "\n",
    "\n"
   ]
  },
  {
   "cell_type": "code",
   "execution_count": 12,
   "id": "ce5b750c",
   "metadata": {},
   "outputs": [
    {
     "name": "stderr",
     "output_type": "stream",
     "text": [
      "<ipython-input-12-f6ddc783c5b0>:3: UserWarning: Boolean Series key will be reindexed to match DataFrame index.\n",
      "  new_yes=len(new_v[data['New Page Click']=='yes'])\n"
     ]
    },
    {
     "data": {
      "text/plain": [
       "132"
      ]
     },
     "execution_count": 12,
     "metadata": {},
     "output_type": "execute_result"
    }
   ],
   "source": [
    "## finding the total number of 'yes' selection in new version data\n",
    "\n",
    "new_yes=len(new_v[data['New Page Click']=='yes'])\n",
    "\n",
    "new_yes"
   ]
  },
  {
   "cell_type": "code",
   "execution_count": 13,
   "id": "ec624dcd",
   "metadata": {},
   "outputs": [
    {
     "data": {
      "text/plain": [
       "0.5008576329331046"
      ]
     },
     "execution_count": 13,
     "metadata": {},
     "output_type": "execute_result"
    }
   ],
   "source": [
    "## probabilty old\n",
    "old_prob=len(old_v)/total\n",
    "old_prob"
   ]
  },
  {
   "cell_type": "code",
   "execution_count": 14,
   "id": "ff01e628",
   "metadata": {},
   "outputs": [
    {
     "data": {
      "text/plain": [
       "0.49914236706689535"
      ]
     },
     "execution_count": 14,
     "metadata": {},
     "output_type": "execute_result"
    }
   ],
   "source": [
    "## probability of new\n",
    "new_prob=len(new_v)/total\n",
    "new_prob"
   ]
  },
  {
   "cell_type": "code",
   "execution_count": 15,
   "id": "292dbd2f",
   "metadata": {},
   "outputs": [
    {
     "data": {
      "text/plain": [
       "-0.0017152658662092368"
      ]
     },
     "execution_count": 15,
     "metadata": {},
     "output_type": "execute_result"
    }
   ],
   "source": [
    "actual_diff=new_prob-old_prob\n",
    "actual_diff"
   ]
  },
  {
   "cell_type": "markdown",
   "id": "a8180e71",
   "metadata": {},
   "source": [
    "# Hypothesis testing\n",
    "\n",
    "## Trying to understand whether the new version is statistically better than the old\n",
    "## Null Hyp: N(new)-N(old)<=0\n",
    "## Alt Hyp: N(new)-N(old)>0"
   ]
  },
  {
   "cell_type": "markdown",
   "id": "afa8a150",
   "metadata": {},
   "source": [
    "#### Type one error rate of 5%"
   ]
  },
  {
   "cell_type": "code",
   "execution_count": 16,
   "id": "48610a3c",
   "metadata": {},
   "outputs": [
    {
     "data": {
      "text/plain": [
       "0.4383561643835616"
      ]
     },
     "execution_count": 16,
     "metadata": {},
     "output_type": "execute_result"
    }
   ],
   "source": [
    "mock_old=np.random.choice([0,1], size=len(old_v), replace=True, p=(old_prob, 1-old_prob))\n",
    "mock_old.mean()                                                         \n",
    "                                                              "
   ]
  },
  {
   "cell_type": "code",
   "execution_count": 17,
   "id": "0c3c1e09",
   "metadata": {},
   "outputs": [
    {
     "data": {
      "text/plain": [
       "0.5189003436426117"
      ]
     },
     "execution_count": 17,
     "metadata": {},
     "output_type": "execute_result"
    }
   ],
   "source": [
    "mock_new=np.random.choice([0,1], size=len(new_v), replace=True, p=(new_prob, 1-new_prob))\n",
    "mock_new.mean() "
   ]
  },
  {
   "cell_type": "code",
   "execution_count": 18,
   "id": "dec4dd19",
   "metadata": {},
   "outputs": [],
   "source": [
    "diff=mock_new.mean()-mock_old.mean()"
   ]
  },
  {
   "cell_type": "code",
   "execution_count": 19,
   "id": "eb9b7c61",
   "metadata": {},
   "outputs": [
    {
     "data": {
      "text/plain": [
       "0.08054417925905011"
      ]
     },
     "execution_count": 19,
     "metadata": {},
     "output_type": "execute_result"
    }
   ],
   "source": [
    "diff"
   ]
  },
  {
   "cell_type": "code",
   "execution_count": 20,
   "id": "c208321f",
   "metadata": {},
   "outputs": [],
   "source": [
    "## caclulating the difference conversion rate throguh mass interations\n",
    "empty=[]\n",
    "for i in range(10000):\n",
    "    mock_old=np.random.choice([0,1], size=len(old_v), replace=True, p=(old_prob, 1-old_prob))\n",
    "    mock_new=np.random.choice([0,1], size=len(new_v), replace=True, p=(new_prob, 1-new_prob))\n",
    "    diff=mock_new.mean()-mock_old.mean()\n",
    "    empty.append(diff)\n",
    "full=np.array(empty)\n",
    "    "
   ]
  },
  {
   "cell_type": "code",
   "execution_count": 21,
   "id": "095484eb",
   "metadata": {},
   "outputs": [
    {
     "data": {
      "text/plain": [
       "array([ 0.0085793 ,  0.05666573,  0.00175352, ...,  0.04294356,\n",
       "       -0.03598833, -0.0085793 ])"
      ]
     },
     "execution_count": 21,
     "metadata": {},
     "output_type": "execute_result"
    }
   ],
   "source": [
    "full"
   ]
  },
  {
   "cell_type": "code",
   "execution_count": 22,
   "id": "1d4ab4d7",
   "metadata": {},
   "outputs": [],
   "source": [
    "import matplotlib.pyplot as plt"
   ]
  },
  {
   "cell_type": "code",
   "execution_count": 23,
   "id": "c1808cc3",
   "metadata": {},
   "outputs": [
    {
     "data": {
      "image/png": "[encoded data removed]",
      "text/plain": [
       "<Figure size 640x480 with 1 Axes>"
      ]
     },
     "metadata": {},
     "output_type": "display_data"
    }
   ],
   "source": [
    "plt.hist(full,alpha=0.5)\n",
    "plt.show()"
   ]
  },
  {
   "cell_type": "code",
   "execution_count": 24,
   "id": "9e17d216",
   "metadata": {},
   "outputs": [
    {
     "data": {
      "text/plain": [
       "array([ 0.00618468,  0.00587853,  0.05765734, ...,  0.08027209,\n",
       "        0.12212723, -0.01503882])"
      ]
     },
     "execution_count": 24,
     "metadata": {},
     "output_type": "execute_result"
    }
   ],
   "source": [
    "##proportion of mock data difference that is greater thn actual data\n",
    "null_vals=np.random.normal(0,full.std(),full.size)\n",
    "null_vals"
   ]
  },
  {
   "cell_type": "code",
   "execution_count": 25,
   "id": "1b2799cf",
   "metadata": {},
   "outputs": [],
   "source": [
    "p_value=(null_vals-full).mean()"
   ]
  },
  {
   "cell_type": "code",
   "execution_count": 26,
   "id": "a1b6afe0",
   "metadata": {},
   "outputs": [
    {
     "data": {
      "text/plain": [
       "-0.0006893411529683959"
      ]
     },
     "execution_count": 26,
     "metadata": {},
     "output_type": "execute_result"
    }
   ],
   "source": [
    "p_value"
   ]
  },
  {
   "cell_type": "markdown",
   "id": "db681e9f",
   "metadata": {},
   "source": [
    "https://statisticsbyjim.com/hypothesis-testing/reproducibility-p-values/"
   ]
  },
  {
   "cell_type": "markdown",
   "id": "6d20929e",
   "metadata": {},
   "source": [
    "https://statisticsbyjim.com/hypothesis-testing/types-errors-hypothesis-testing/"
   ]
  },
  {
   "cell_type": "markdown",
   "id": "87159d7a",
   "metadata": {},
   "source": [
    "https://seeing-theory.brown.edu"
   ]
  },
  {
   "cell_type": "markdown",
   "id": "86472199",
   "metadata": {},
   "source": [
    "reject the null hypothesis that the new page is equal or better than the old webpage."
   ]
  },
  {
   "cell_type": "code",
   "execution_count": null,
   "id": "1f6b8c0d",
   "metadata": {},
   "outputs": [],
   "source": []
  },
  {
   "cell_type": "code",
   "execution_count": null,
   "id": "59025995",
   "metadata": {},
   "outputs": [],
   "source": []
  },
  {
   "cell_type": "code",
   "execution_count": 44,
   "id": "2b9fe766",
   "metadata": {},
   "outputs": [],
   "source": [
    "## additional practice\n"
   ]
  },
  {
   "cell_type": "code",
   "execution_count": 45,
   "id": "49b0dd1f",
   "metadata": {},
   "outputs": [],
   "source": [
    "from scipy import stats"
   ]
  },
  {
   "cell_type": "code",
   "execution_count": 46,
   "id": "0732ca57",
   "metadata": {},
   "outputs": [],
   "source": [
    "def significant(first, second, alpha=0.05):\n",
    "    t,p = stats.ttest_ind(first,second, equal_var=False)\n",
    "    return p<alpha, p"
   ]
  },
  {
   "cell_type": "code",
   "execution_count": 47,
   "id": "60089908",
   "metadata": {},
   "outputs": [],
   "source": [
    "def exp_cont(data, var_name, alpha=0.05):\n",
    "    exp=data[data['New Page Click'] ==0][var_name]\n",
    "    cont=data[data['New Page Click'] ==1][var_name]    \n",
    "    return significant(exp, cont, alpha)"
   ]
  },
  {
   "cell_type": "code",
   "execution_count": 48,
   "id": "3e5411af",
   "metadata": {},
   "outputs": [
    {
     "ename": "TypeError",
     "evalue": "unsupported operand type(s) for /: 'str' and 'int'",
     "output_type": "error",
     "traceback": [
      "\u001b[0;31m---------------------------------------------------------------------------\u001b[0m",
      "\u001b[0;31mTypeError\u001b[0m                                 Traceback (most recent call last)",
      "\u001b[0;32m<ipython-input-48-78118275b2a9>\u001b[0m in \u001b[0;36m<module>\u001b[0;34m\u001b[0m\n\u001b[0;32m----> 1\u001b[0;31m \u001b[0msignificant\u001b[0m\u001b[0;34m(\u001b[0m\u001b[0mold_v\u001b[0m\u001b[0;34m[\u001b[0m\u001b[0;34m'New Page Click'\u001b[0m\u001b[0;34m]\u001b[0m\u001b[0;34m,\u001b[0m\u001b[0mnew_v\u001b[0m\u001b[0;34m[\u001b[0m\u001b[0;34m'New Page Click'\u001b[0m\u001b[0;34m]\u001b[0m\u001b[0;34m)\u001b[0m\u001b[0;34m\u001b[0m\u001b[0;34m\u001b[0m\u001b[0m\n\u001b[0m",
      "\u001b[0;32m<ipython-input-46-2a2289e7721a>\u001b[0m in \u001b[0;36msignificant\u001b[0;34m(first, second, alpha)\u001b[0m\n\u001b[1;32m      1\u001b[0m \u001b[0;32mdef\u001b[0m \u001b[0msignificant\u001b[0m\u001b[0;34m(\u001b[0m\u001b[0mfirst\u001b[0m\u001b[0;34m,\u001b[0m \u001b[0msecond\u001b[0m\u001b[0;34m,\u001b[0m \u001b[0malpha\u001b[0m\u001b[0;34m=\u001b[0m\u001b[0;36m0.05\u001b[0m\u001b[0;34m)\u001b[0m\u001b[0;34m:\u001b[0m\u001b[0;34m\u001b[0m\u001b[0;34m\u001b[0m\u001b[0m\n\u001b[0;32m----> 2\u001b[0;31m     \u001b[0mt\u001b[0m\u001b[0;34m,\u001b[0m\u001b[0mp\u001b[0m \u001b[0;34m=\u001b[0m \u001b[0mstats\u001b[0m\u001b[0;34m.\u001b[0m\u001b[0mttest_ind\u001b[0m\u001b[0;34m(\u001b[0m\u001b[0mfirst\u001b[0m\u001b[0;34m,\u001b[0m\u001b[0msecond\u001b[0m\u001b[0;34m,\u001b[0m \u001b[0mequal_var\u001b[0m\u001b[0;34m=\u001b[0m\u001b[0;32mFalse\u001b[0m\u001b[0;34m)\u001b[0m\u001b[0;34m\u001b[0m\u001b[0;34m\u001b[0m\u001b[0m\n\u001b[0m\u001b[1;32m      3\u001b[0m     \u001b[0;32mreturn\u001b[0m \u001b[0mp\u001b[0m\u001b[0;34m<\u001b[0m\u001b[0malpha\u001b[0m\u001b[0;34m,\u001b[0m \u001b[0mp\u001b[0m\u001b[0;34m\u001b[0m\u001b[0;34m\u001b[0m\u001b[0m\n",
      "\u001b[0;32m/opt/anaconda3/lib/python3.8/site-packages/scipy/stats/stats.py\u001b[0m in \u001b[0;36mttest_ind\u001b[0;34m(a, b, axis, equal_var, nan_policy, alternative)\u001b[0m\n\u001b[1;32m   5769\u001b[0m         \u001b[0;32mreturn\u001b[0m \u001b[0m_ttest_nans\u001b[0m\u001b[0;34m(\u001b[0m\u001b[0ma\u001b[0m\u001b[0;34m,\u001b[0m \u001b[0mb\u001b[0m\u001b[0;34m,\u001b[0m \u001b[0maxis\u001b[0m\u001b[0;34m,\u001b[0m \u001b[0mTtest_indResult\u001b[0m\u001b[0;34m)\u001b[0m\u001b[0;34m\u001b[0m\u001b[0;34m\u001b[0m\u001b[0m\n\u001b[1;32m   5770\u001b[0m \u001b[0;34m\u001b[0m\u001b[0m\n\u001b[0;32m-> 5771\u001b[0;31m     \u001b[0mv1\u001b[0m \u001b[0;34m=\u001b[0m \u001b[0mnp\u001b[0m\u001b[0;34m.\u001b[0m\u001b[0mvar\u001b[0m\u001b[0;34m(\u001b[0m\u001b[0ma\u001b[0m\u001b[0;34m,\u001b[0m \u001b[0maxis\u001b[0m\u001b[0;34m,\u001b[0m \u001b[0mddof\u001b[0m\u001b[0;34m=\u001b[0m\u001b[0;36m1\u001b[0m\u001b[0;34m)\u001b[0m\u001b[0;34m\u001b[0m\u001b[0;34m\u001b[0m\u001b[0m\n\u001b[0m\u001b[1;32m   5772\u001b[0m     \u001b[0mv2\u001b[0m \u001b[0;34m=\u001b[0m \u001b[0mnp\u001b[0m\u001b[0;34m.\u001b[0m\u001b[0mvar\u001b[0m\u001b[0;34m(\u001b[0m\u001b[0mb\u001b[0m\u001b[0;34m,\u001b[0m \u001b[0maxis\u001b[0m\u001b[0;34m,\u001b[0m \u001b[0mddof\u001b[0m\u001b[0;34m=\u001b[0m\u001b[0;36m1\u001b[0m\u001b[0;34m)\u001b[0m\u001b[0;34m\u001b[0m\u001b[0;34m\u001b[0m\u001b[0m\n\u001b[1;32m   5773\u001b[0m     \u001b[0mn1\u001b[0m \u001b[0;34m=\u001b[0m \u001b[0ma\u001b[0m\u001b[0;34m.\u001b[0m\u001b[0mshape\u001b[0m\u001b[0;34m[\u001b[0m\u001b[0maxis\u001b[0m\u001b[0;34m]\u001b[0m\u001b[0;34m\u001b[0m\u001b[0;34m\u001b[0m\u001b[0m\n",
      "\u001b[0;32m<__array_function__ internals>\u001b[0m in \u001b[0;36mvar\u001b[0;34m(*args, **kwargs)\u001b[0m\n",
      "\u001b[0;32m/opt/anaconda3/lib/python3.8/site-packages/numpy/core/fromnumeric.py\u001b[0m in \u001b[0;36mvar\u001b[0;34m(a, axis, dtype, out, ddof, keepdims, where)\u001b[0m\n\u001b[1;32m   3700\u001b[0m             \u001b[0;32mreturn\u001b[0m \u001b[0mvar\u001b[0m\u001b[0;34m(\u001b[0m\u001b[0maxis\u001b[0m\u001b[0;34m=\u001b[0m\u001b[0maxis\u001b[0m\u001b[0;34m,\u001b[0m \u001b[0mdtype\u001b[0m\u001b[0;34m=\u001b[0m\u001b[0mdtype\u001b[0m\u001b[0;34m,\u001b[0m \u001b[0mout\u001b[0m\u001b[0;34m=\u001b[0m\u001b[0mout\u001b[0m\u001b[0;34m,\u001b[0m \u001b[0mddof\u001b[0m\u001b[0;34m=\u001b[0m\u001b[0mddof\u001b[0m\u001b[0;34m,\u001b[0m \u001b[0;34m**\u001b[0m\u001b[0mkwargs\u001b[0m\u001b[0;34m)\u001b[0m\u001b[0;34m\u001b[0m\u001b[0;34m\u001b[0m\u001b[0m\n\u001b[1;32m   3701\u001b[0m \u001b[0;34m\u001b[0m\u001b[0m\n\u001b[0;32m-> 3702\u001b[0;31m     return _methods._var(a, axis=axis, dtype=dtype, out=out, ddof=ddof,\n\u001b[0m\u001b[1;32m   3703\u001b[0m                          **kwargs)\n\u001b[1;32m   3704\u001b[0m \u001b[0;34m\u001b[0m\u001b[0m\n",
      "\u001b[0;32m/opt/anaconda3/lib/python3.8/site-packages/numpy/core/_methods.py\u001b[0m in \u001b[0;36m_var\u001b[0;34m(a, axis, dtype, out, ddof, keepdims, where)\u001b[0m\n\u001b[1;32m    219\u001b[0m         \u001b[0mdiv\u001b[0m \u001b[0;34m=\u001b[0m \u001b[0mrcount\u001b[0m\u001b[0;34m.\u001b[0m\u001b[0mreshape\u001b[0m\u001b[0;34m(\u001b[0m\u001b[0marrmean\u001b[0m\u001b[0;34m.\u001b[0m\u001b[0mshape\u001b[0m\u001b[0;34m)\u001b[0m\u001b[0;34m\u001b[0m\u001b[0;34m\u001b[0m\u001b[0m\n\u001b[1;32m    220\u001b[0m     \u001b[0;32mif\u001b[0m \u001b[0misinstance\u001b[0m\u001b[0;34m(\u001b[0m\u001b[0marrmean\u001b[0m\u001b[0;34m,\u001b[0m \u001b[0mmu\u001b[0m\u001b[0;34m.\u001b[0m\u001b[0mndarray\u001b[0m\u001b[0;34m)\u001b[0m\u001b[0;34m:\u001b[0m\u001b[0;34m\u001b[0m\u001b[0;34m\u001b[0m\u001b[0m\n\u001b[0;32m--> 221\u001b[0;31m         arrmean = um.true_divide(arrmean, div, out=arrmean, casting='unsafe',\n\u001b[0m\u001b[1;32m    222\u001b[0m                                  subok=False)\n\u001b[1;32m    223\u001b[0m     \u001b[0;32melse\u001b[0m\u001b[0;34m:\u001b[0m\u001b[0;34m\u001b[0m\u001b[0;34m\u001b[0m\u001b[0m\n",
      "\u001b[0;31mTypeError\u001b[0m: unsupported operand type(s) for /: 'str' and 'int'"
     ]
    }
   ],
   "source": [
    "significant(old_v['New Page Click'],new_v['New Page Click'])"
   ]
  },
  {
   "cell_type": "code",
   "execution_count": null,
   "id": "7a0840e0",
   "metadata": {},
   "outputs": [],
   "source": []
  }
 ],
 "metadata": {
  "kernelspec": {
   "display_name": "Python 3",
   "language": "python",
   "name": "python3"
  },
  "language_info": {
   "codemirror_mode": {
    "name": "ipython",
    "version": 3
   },
   "file_extension": ".py",
   "mimetype": "text/x-python",
   "name": "python",
   "nbconvert_exporter": "python",
   "pygments_lexer": "ipython3",
   "version": "3.8.8"
  }
 },
 "nbformat": 4,
 "nbformat_minor": 5
}
